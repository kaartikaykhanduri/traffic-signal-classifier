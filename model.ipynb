{
 "cells": [
  {
   "cell_type": "code",
   "execution_count": 1,
   "id": "567ac769",
   "metadata": {},
   "outputs": [],
   "source": [
    "import pandas as pd\n",
    "import numpy as np\n",
    "import matplotlib.pyplot as plt\n",
    "import seaborn as sns\n",
    "import pickle"
   ]
  },
  {
   "cell_type": "code",
   "execution_count": 2,
   "id": "5f5fcc83",
   "metadata": {},
   "outputs": [],
   "source": [
    "with open(r\"C:\\Users\\KARTIKAY K\\Desktop\\ml learning\\traffic sign classifier (le-net)\\test.p\", mode='rb') as testing_data:\n",
    "    test = pickle.load(testing_data)\n",
    "with open(r\"C:\\Users\\KARTIKAY K\\Desktop\\ml learning\\traffic sign classifier (le-net)\\valid.p\", mode='rb') as validation_data:\n",
    "    valid = pickle.load(validation_data)\n",
    "with open(r\"C:\\Users\\KARTIKAY K\\Desktop\\ml learning\\traffic sign classifier (le-net)\\train.p\", mode='rb') as training_data:\n",
    "    train = pickle.load(training_data)\n",
    "    \n",
    "#had problem with using to load data as raw string instead of double backslash so used r\"... as used above to make it raw"
   ]
  },
  {
   "cell_type": "code",
   "execution_count": 3,
   "id": "85e2f2d3",
   "metadata": {},
   "outputs": [],
   "source": [
    "X_train,y_train = train['features'],train['labels']\n",
    "X_validation,y_validation = valid['features'],valid['labels']\n",
    "X_test,y_test = test['features'],test['labels']"
   ]
  },
  {
   "cell_type": "code",
   "execution_count": 4,
   "id": "93de6a17",
   "metadata": {
    "scrolled": true
   },
   "outputs": [
    {
     "data": {
      "text/plain": [
       "(34799, 32, 32, 3)"
      ]
     },
     "execution_count": 4,
     "metadata": {},
     "output_type": "execute_result"
    }
   ],
   "source": [
    "X_train.shape"
   ]
  },
  {
   "cell_type": "code",
   "execution_count": 5,
   "id": "01f1b0a5",
   "metadata": {},
   "outputs": [
    {
     "data": {
      "text/plain": [
       "1"
      ]
     },
     "execution_count": 5,
     "metadata": {},
     "output_type": "execute_result"
    },
    {
     "data": {
      "image/png": "[encoded data removed]",
      "text/plain": [
       "<Figure size 640x480 with 1 Axes>"
      ]
     },
     "metadata": {},
     "output_type": "display_data"
    }
   ],
   "source": [
    "i = 3001\n",
    "plt.imshow(X_train[i]) #will show the image\n",
    "y_train[i] #this will show to which class does the image belongs"
   ]
  },
  {
   "cell_type": "code",
   "execution_count": 6,
   "id": "8b2f337e",
   "metadata": {},
   "outputs": [],
   "source": [
    "from sklearn.utils import shuffle\n",
    "X_train,y_train = shuffle(X_train,y_train)\n",
    "#problem : data was not shufled as was distributed by classes of signes so used shuffle before training"
   ]
  },
  {
   "cell_type": "code",
   "execution_count": 7,
   "id": "36c58200",
   "metadata": {},
   "outputs": [],
   "source": [
    "X_train_gray = np.sum(X_train/3,axis=3,keepdims=True)\n",
    "#While keeping the dimensions same, we are averaging the 3 colours RGB into one(gray).\n",
    "#for Reduced Dimensionality , simplicity , noise eduction "
   ]
  },
  {
   "cell_type": "code",
   "execution_count": 8,
   "id": "fb3d71d9",
   "metadata": {},
   "outputs": [],
   "source": [
    "X_test_gray = np.sum(X_test/3,axis=3,keepdims=True)\n",
    "X_validation_gray = np.sum(X_validation/3,axis=3,keepdims=True)"
   ]
  },
  {
   "cell_type": "code",
   "execution_count": 9,
   "id": "1bbc5775",
   "metadata": {},
   "outputs": [
    {
     "data": {
      "text/plain": [
       "(34799, 32, 32, 1)"
      ]
     },
     "execution_count": 9,
     "metadata": {},
     "output_type": "execute_result"
    }
   ],
   "source": [
    "X_train_gray.shape #now the dimension is 32 by 32 by 1.same for test and valid"
   ]
  },
  {
   "cell_type": "code",
   "execution_count": 10,
   "id": "081d08f4",
   "metadata": {},
   "outputs": [],
   "source": [
    "X_train_gray_norm = (X_train_gray - 128)/128\n",
    "X_test_gray_norm = (X_test_gray - 128)/128\n",
    "X_validation_gray_norm = (X_validation_gray - 128)/128\n",
    "#subtracts 128 from each pixel value in the grayscale training \n",
    "#image and then divides it by 128, effectively scaling the pixel values to a range between -1 and 1."
   ]
  },
  {
   "cell_type": "code",
   "execution_count": 11,
   "id": "fffecc2a",
   "metadata": {},
   "outputs": [
    {
     "data": {
      "text/plain": [
       "array([[[[-0.890625  ],\n",
       "         [-0.88020833],\n",
       "         [-0.890625  ],\n",
       "         ...,\n",
       "         [-0.9296875 ],\n",
       "         [-0.921875  ],\n",
       "         [-0.9296875 ]],\n",
       "\n",
       "        [[-0.8984375 ],\n",
       "         [-0.8828125 ],\n",
       "         [-0.890625  ],\n",
       "         ...,\n",
       "         [-0.92708333],\n",
       "         [-0.92447917],\n",
       "         [-0.921875  ]],\n",
       "\n",
       "        [[-0.8984375 ],\n",
       "         [-0.890625  ],\n",
       "         [-0.890625  ],\n",
       "         ...,\n",
       "         [-0.9296875 ],\n",
       "         [-0.91927083],\n",
       "         [-0.91927083]],\n",
       "\n",
       "        ...,\n",
       "\n",
       "        [[-0.921875  ],\n",
       "         [-0.92447917],\n",
       "         [-0.92708333],\n",
       "         ...,\n",
       "         [-0.9296875 ],\n",
       "         [-0.92708333],\n",
       "         [-0.92708333]],\n",
       "\n",
       "        [[-0.9296875 ],\n",
       "         [-0.92447917],\n",
       "         [-0.92708333],\n",
       "         ...,\n",
       "         [-0.92447917],\n",
       "         [-0.921875  ],\n",
       "         [-0.92708333]],\n",
       "\n",
       "        [[-0.921875  ],\n",
       "         [-0.9296875 ],\n",
       "         [-0.92708333],\n",
       "         ...,\n",
       "         [-0.91927083],\n",
       "         [-0.9140625 ],\n",
       "         [-0.9140625 ]]],\n",
       "\n",
       "\n",
       "       [[[-0.66927083],\n",
       "         [-0.6796875 ],\n",
       "         [-0.52083333],\n",
       "         ...,\n",
       "         [-0.828125  ],\n",
       "         [-0.83072917],\n",
       "         [-0.828125  ]],\n",
       "\n",
       "        [[-0.328125  ],\n",
       "         [-0.27864583],\n",
       "         [-0.02604167],\n",
       "         ...,\n",
       "         [-0.83333333],\n",
       "         [-0.828125  ],\n",
       "         [-0.80729167]],\n",
       "\n",
       "        [[-0.0859375 ],\n",
       "         [ 0.35416667],\n",
       "         [ 0.4375    ],\n",
       "         ...,\n",
       "         [-0.80989583],\n",
       "         [-0.79947917],\n",
       "         [-0.78125   ]],\n",
       "\n",
       "        ...,\n",
       "\n",
       "        [[-0.81770833],\n",
       "         [-0.81770833],\n",
       "         [-0.83072917],\n",
       "         ...,\n",
       "         [-0.421875  ],\n",
       "         [-0.734375  ],\n",
       "         [-0.73177083]],\n",
       "\n",
       "        [[-0.828125  ],\n",
       "         [-0.82552083],\n",
       "         [-0.83072917],\n",
       "         ...,\n",
       "         [-0.4140625 ],\n",
       "         [-0.70833333],\n",
       "         [-0.6875    ]],\n",
       "\n",
       "        [[-0.82552083],\n",
       "         [-0.82552083],\n",
       "         [-0.81510417],\n",
       "         ...,\n",
       "         [-0.37239583],\n",
       "         [-0.69791667],\n",
       "         [-0.77083333]]],\n",
       "\n",
       "\n",
       "       [[[-0.65104167],\n",
       "         [-0.6953125 ],\n",
       "         [-0.703125  ],\n",
       "         ...,\n",
       "         [-0.4921875 ],\n",
       "         [-0.52083333],\n",
       "         [-0.56770833]],\n",
       "\n",
       "        [[-0.59114583],\n",
       "         [-0.67708333],\n",
       "         [-0.73697917],\n",
       "         ...,\n",
       "         [-0.5       ],\n",
       "         [-0.48958333],\n",
       "         [-0.59375   ]],\n",
       "\n",
       "        [[-0.56770833],\n",
       "         [-0.62760417],\n",
       "         [-0.66666667],\n",
       "         ...,\n",
       "         [-0.53125   ],\n",
       "         [-0.5234375 ],\n",
       "         [-0.61197917]],\n",
       "\n",
       "        ...,\n",
       "\n",
       "        [[-0.72135417],\n",
       "         [-0.70052083],\n",
       "         [-0.71614583],\n",
       "         ...,\n",
       "         [-0.77864583],\n",
       "         [-0.765625  ],\n",
       "         [-0.75520833]],\n",
       "\n",
       "        [[-0.73177083],\n",
       "         [-0.71614583],\n",
       "         [-0.70833333],\n",
       "         ...,\n",
       "         [-0.7734375 ],\n",
       "         [-0.76822917],\n",
       "         [-0.76822917]],\n",
       "\n",
       "        [[-0.734375  ],\n",
       "         [-0.72395833],\n",
       "         [-0.7265625 ],\n",
       "         ...,\n",
       "         [-0.76822917],\n",
       "         [-0.76302083],\n",
       "         [-0.7734375 ]]],\n",
       "\n",
       "\n",
       "       ...,\n",
       "\n",
       "\n",
       "       [[[-0.60416667],\n",
       "         [-0.60416667],\n",
       "         [-0.6015625 ],\n",
       "         ...,\n",
       "         [-0.55729167],\n",
       "         [-0.609375  ],\n",
       "         [-0.640625  ]],\n",
       "\n",
       "        [[-0.61458333],\n",
       "         [-0.6171875 ],\n",
       "         [-0.58854167],\n",
       "         ...,\n",
       "         [-0.5859375 ],\n",
       "         [-0.5546875 ],\n",
       "         [-0.59635417]],\n",
       "\n",
       "        [[-0.625     ],\n",
       "         [-0.63020833],\n",
       "         [-0.5703125 ],\n",
       "         ...,\n",
       "         [-0.6328125 ],\n",
       "         [-0.5703125 ],\n",
       "         [-0.57291667]],\n",
       "\n",
       "        ...,\n",
       "\n",
       "        [[-0.27083333],\n",
       "         [-0.4921875 ],\n",
       "         [-0.47916667],\n",
       "         ...,\n",
       "         [-0.77083333],\n",
       "         [-0.76822917],\n",
       "         [-0.74739583]],\n",
       "\n",
       "        [[-0.32291667],\n",
       "         [-0.5390625 ],\n",
       "         [-0.53125   ],\n",
       "         ...,\n",
       "         [-0.7578125 ],\n",
       "         [-0.75260417],\n",
       "         [-0.72395833]],\n",
       "\n",
       "        [[-0.58854167],\n",
       "         [-0.59635417],\n",
       "         [-0.6015625 ],\n",
       "         ...,\n",
       "         [-0.65364583],\n",
       "         [-0.69791667],\n",
       "         [-0.55208333]]],\n",
       "\n",
       "\n",
       "       [[[-0.40885417],\n",
       "         [-0.38802083],\n",
       "         [-0.38802083],\n",
       "         ...,\n",
       "         [-0.5625    ],\n",
       "         [-0.578125  ],\n",
       "         [-0.54166667]],\n",
       "\n",
       "        [[-0.390625  ],\n",
       "         [-0.36197917],\n",
       "         [-0.34895833],\n",
       "         ...,\n",
       "         [-0.5546875 ],\n",
       "         [-0.56510417],\n",
       "         [-0.58072917]],\n",
       "\n",
       "        [[-0.40104167],\n",
       "         [-0.42708333],\n",
       "         [-0.40364583],\n",
       "         ...,\n",
       "         [-0.55208333],\n",
       "         [-0.5546875 ],\n",
       "         [-0.54427083]],\n",
       "\n",
       "        ...,\n",
       "\n",
       "        [[-0.49479167],\n",
       "         [-0.5       ],\n",
       "         [-0.4921875 ],\n",
       "         ...,\n",
       "         [-0.546875  ],\n",
       "         [-0.52604167],\n",
       "         [-0.46354167]],\n",
       "\n",
       "        [[-0.49739583],\n",
       "         [-0.515625  ],\n",
       "         [-0.4921875 ],\n",
       "         ...,\n",
       "         [-0.54947917],\n",
       "         [-0.4921875 ],\n",
       "         [-0.43229167]],\n",
       "\n",
       "        [[-0.50260417],\n",
       "         [-0.51302083],\n",
       "         [-0.51302083],\n",
       "         ...,\n",
       "         [-0.53125   ],\n",
       "         [-0.4765625 ],\n",
       "         [-0.4140625 ]]],\n",
       "\n",
       "\n",
       "       [[[ 0.921875  ],\n",
       "         [ 0.89583333],\n",
       "         [ 0.92708333],\n",
       "         ...,\n",
       "         [ 0.41927083],\n",
       "         [ 0.5       ],\n",
       "         [ 0.54427083]],\n",
       "\n",
       "        [[ 0.79166667],\n",
       "         [ 0.81510417],\n",
       "         [ 0.90885417],\n",
       "         ...,\n",
       "         [ 0.43489583],\n",
       "         [ 0.59635417],\n",
       "         [ 0.69270833]],\n",
       "\n",
       "        [[ 0.8515625 ],\n",
       "         [ 0.8203125 ],\n",
       "         [ 0.90364583],\n",
       "         ...,\n",
       "         [ 0.4453125 ],\n",
       "         [ 0.59895833],\n",
       "         [ 0.7109375 ]],\n",
       "\n",
       "        ...,\n",
       "\n",
       "        [[ 0.71614583],\n",
       "         [ 0.50520833],\n",
       "         [ 0.29947917],\n",
       "         ...,\n",
       "         [ 0.2578125 ],\n",
       "         [ 0.359375  ],\n",
       "         [ 0.53125   ]],\n",
       "\n",
       "        [[ 0.72395833],\n",
       "         [ 0.53125   ],\n",
       "         [ 0.21614583],\n",
       "         ...,\n",
       "         [ 0.3515625 ],\n",
       "         [ 0.515625  ],\n",
       "         [ 0.51822917]],\n",
       "\n",
       "        [[ 0.67447917],\n",
       "         [ 0.4296875 ],\n",
       "         [ 0.0546875 ],\n",
       "         ...,\n",
       "         [ 0.5234375 ],\n",
       "         [ 0.51302083],\n",
       "         [ 0.53385417]]]])"
      ]
     },
     "execution_count": 11,
     "metadata": {},
     "output_type": "execute_result"
    }
   ],
   "source": [
    "X_train_gray_norm"
   ]
  },
  {
   "cell_type": "code",
   "execution_count": 12,
   "id": "6540f6f7",
   "metadata": {},
   "outputs": [
    {
     "data": {
      "text/plain": [
       "<matplotlib.image.AxesImage at 0x1f082ff4ed0>"
      ]
     },
     "execution_count": 12,
     "metadata": {},
     "output_type": "execute_result"
    },
    {
     "data": {
      "image/png": "[encoded data removed]",
      "text/plain": [
       "<Figure size 640x480 with 1 Axes>"
      ]
     },
     "metadata": {},
     "output_type": "display_data"
    },
    {
     "data": {
      "image/png": "[encoded data removed]",
      "text/plain": [
       "<Figure size 640x480 with 1 Axes>"
      ]
     },
     "metadata": {},
     "output_type": "display_data"
    }
   ],
   "source": [
    "#lets see if we have preserved the actual features of image or not. \n",
    "i = 300\n",
    "plt.imshow(X_train_gray[i].squeeze(),cmap='gray')#we use squeeze becuase we dont want the dimns to be 32 by 32 by 1 but 32 by 32.\n",
    "y_train[i]\n",
    "plt.figure() #create new image\n",
    "plt.imshow(X_train[i]) #actual image"
   ]
  },
  {
   "cell_type": "code",
   "execution_count": 22,
   "id": "fbd7ff5f",
   "metadata": {},
   "outputs": [],
   "source": [
    "from tensorflow.keras.models import Sequential\n",
    "from tensorflow.keras.layers import Conv2D,MaxPool2D,AveragePooling2D,Dense,Flatten,Dropout\n",
    "from tensorflow.keras.optimizers import Adam\n",
    "from tensorflow.keras.callbacks import TensorBoard"
   ]
  },
  {
   "cell_type": "code",
   "execution_count": 14,
   "id": "9bb771f8",
   "metadata": {},
   "outputs": [],
   "source": [
    "cnn_model = Sequential()"
   ]
  },
  {
   "cell_type": "code",
   "execution_count": 15,
   "id": "ed997860",
   "metadata": {},
   "outputs": [
    {
     "name": "stderr",
     "output_type": "stream",
     "text": [
      "C:\\Users\\KARTIKAY K\\AppData\\Local\\Programs\\Python\\Python311\\Lib\\site-packages\\keras\\src\\layers\\convolutional\\base_conv.py:99: UserWarning: Do not pass an `input_shape`/`input_dim` argument to a layer. When using Sequential models, prefer using an `Input(shape)` object as the first layer in the model instead.\n",
      "  super().__init__(\n"
     ]
    }
   ],
   "source": [
    "cnn_model.add(Conv2D(filters = 6,kernel_size = (5,5),activation = 'relu',input_shape =(32,32,1))) #filters represent the depth,kernal size is size of filter layer,input shape is dimns of the input image\n",
    "cnn_model.add(AveragePooling2D(pool_size=(2, 2)))\n",
    "\n",
    "cnn_model.add(Conv2D(filters = 16,kernel_size = (5,5),activation = 'relu')) #filters represent the depth,kernal size is size of filer layer,input shape is dimns of the input image\n",
    "cnn_model.add(AveragePooling2D(pool_size=(2, 2)))\n",
    "\n",
    "cnn_model.add(Flatten())\n",
    "#creating an artificial neural network\n",
    "cnn_model.add(Dense(120,activation='relu'))\n",
    "cnn_model.add(Dense(84,activation='relu'))\n",
    "cnn_model.add(Dense(43,activation='softmax')) #output - hence 43 neurons corresponding to 43 classes"
   ]
  },
  {
   "cell_type": "code",
   "execution_count": 16,
   "id": "7d1414db",
   "metadata": {},
   "outputs": [],
   "source": [
    "cnn_model.compile(loss='sparse_categorical_crossentropy',optimizer=Adam(learning_rate=0.001),metrics=['accuracy'])"
   ]
  },
  {
   "cell_type": "code",
   "execution_count": 17,
   "id": "fae9bd4a",
   "metadata": {},
   "outputs": [
    {
     "name": "stdout",
     "output_type": "stream",
     "text": [
      "Epoch 1/20\n",
      "\u001b[1m70/70\u001b[0m \u001b[32m━━━━━━━━━━━━━━━━━━━━\u001b[0m\u001b[37m\u001b[0m \u001b[1m8s\u001b[0m 62ms/step - accuracy: 0.1002 - loss: 3.4518 - val_accuracy: 0.3104 - val_loss: 2.5786\n",
      "Epoch 2/20\n",
      "\u001b[1m70/70\u001b[0m \u001b[32m━━━━━━━━━━━━━━━━━━━━\u001b[0m\u001b[37m\u001b[0m \u001b[1m4s\u001b[0m 60ms/step - accuracy: 0.4587 - loss: 1.9640 - val_accuracy: 0.5741 - val_loss: 1.4334\n",
      "Epoch 3/20\n",
      "\u001b[1m70/70\u001b[0m \u001b[32m━━━━━━━━━━━━━━━━━━━━\u001b[0m\u001b[37m\u001b[0m \u001b[1m4s\u001b[0m 60ms/step - accuracy: 0.6895 - loss: 1.0630 - val_accuracy: 0.6780 - val_loss: 1.0920\n",
      "Epoch 4/20\n",
      "\u001b[1m70/70\u001b[0m \u001b[32m━━━━━━━━━━━━━━━━━━━━\u001b[0m\u001b[37m\u001b[0m \u001b[1m5s\u001b[0m 68ms/step - accuracy: 0.7769 - loss: 0.7713 - val_accuracy: 0.7383 - val_loss: 0.9014\n",
      "Epoch 5/20\n",
      "\u001b[1m70/70\u001b[0m \u001b[32m━━━━━━━━━━━━━━━━━━━━\u001b[0m\u001b[37m\u001b[0m \u001b[1m4s\u001b[0m 62ms/step - accuracy: 0.8319 - loss: 0.5956 - val_accuracy: 0.7646 - val_loss: 0.8036\n",
      "Epoch 6/20\n",
      "\u001b[1m70/70\u001b[0m \u001b[32m━━━━━━━━━━━━━━━━━━━━\u001b[0m\u001b[37m\u001b[0m \u001b[1m4s\u001b[0m 63ms/step - accuracy: 0.8638 - loss: 0.4933 - val_accuracy: 0.7991 - val_loss: 0.7310\n",
      "Epoch 7/20\n",
      "\u001b[1m70/70\u001b[0m \u001b[32m━━━━━━━━━━━━━━━━━━━━\u001b[0m\u001b[37m\u001b[0m \u001b[1m5s\u001b[0m 67ms/step - accuracy: 0.8867 - loss: 0.4211 - val_accuracy: 0.7982 - val_loss: 0.7349\n",
      "Epoch 8/20\n",
      "\u001b[1m70/70\u001b[0m \u001b[32m━━━━━━━━━━━━━━━━━━━━\u001b[0m\u001b[37m\u001b[0m \u001b[1m5s\u001b[0m 64ms/step - accuracy: 0.9017 - loss: 0.3608 - val_accuracy: 0.8014 - val_loss: 0.7068\n",
      "Epoch 9/20\n",
      "\u001b[1m70/70\u001b[0m \u001b[32m━━━━━━━━━━━━━━━━━━━━\u001b[0m\u001b[37m\u001b[0m \u001b[1m5s\u001b[0m 65ms/step - accuracy: 0.9169 - loss: 0.3109 - val_accuracy: 0.8197 - val_loss: 0.6827\n",
      "Epoch 10/20\n",
      "\u001b[1m70/70\u001b[0m \u001b[32m━━━━━━━━━━━━━━━━━━━━\u001b[0m\u001b[37m\u001b[0m \u001b[1m8s\u001b[0m 120ms/step - accuracy: 0.9234 - loss: 0.2851 - val_accuracy: 0.8336 - val_loss: 0.6546\n",
      "Epoch 11/20\n",
      "\u001b[1m70/70\u001b[0m \u001b[32m━━━━━━━━━━━━━━━━━━━━\u001b[0m\u001b[37m\u001b[0m \u001b[1m6s\u001b[0m 84ms/step - accuracy: 0.9368 - loss: 0.2473 - val_accuracy: 0.8288 - val_loss: 0.6753\n",
      "Epoch 12/20\n",
      "\u001b[1m70/70\u001b[0m \u001b[32m━━━━━━━━━━━━━━━━━━━━\u001b[0m\u001b[37m\u001b[0m \u001b[1m4s\u001b[0m 55ms/step - accuracy: 0.9403 - loss: 0.2229 - val_accuracy: 0.8426 - val_loss: 0.6700\n",
      "Epoch 13/20\n",
      "\u001b[1m70/70\u001b[0m \u001b[32m━━━━━━━━━━━━━━━━━━━━\u001b[0m\u001b[37m\u001b[0m \u001b[1m4s\u001b[0m 54ms/step - accuracy: 0.9491 - loss: 0.2000 - val_accuracy: 0.8460 - val_loss: 0.6084\n",
      "Epoch 14/20\n",
      "\u001b[1m70/70\u001b[0m \u001b[32m━━━━━━━━━━━━━━━━━━━━\u001b[0m\u001b[37m\u001b[0m \u001b[1m4s\u001b[0m 56ms/step - accuracy: 0.9534 - loss: 0.1848 - val_accuracy: 0.8478 - val_loss: 0.6308\n",
      "Epoch 15/20\n",
      "\u001b[1m70/70\u001b[0m \u001b[32m━━━━━━━━━━━━━━━━━━━━\u001b[0m\u001b[37m\u001b[0m \u001b[1m7s\u001b[0m 94ms/step - accuracy: 0.9577 - loss: 0.1687 - val_accuracy: 0.8440 - val_loss: 0.6590\n",
      "Epoch 16/20\n",
      "\u001b[1m70/70\u001b[0m \u001b[32m━━━━━━━━━━━━━━━━━━━━\u001b[0m\u001b[37m\u001b[0m \u001b[1m6s\u001b[0m 91ms/step - accuracy: 0.9629 - loss: 0.1510 - val_accuracy: 0.8485 - val_loss: 0.6757\n",
      "Epoch 17/20\n",
      "\u001b[1m70/70\u001b[0m \u001b[32m━━━━━━━━━━━━━━━━━━━━\u001b[0m\u001b[37m\u001b[0m \u001b[1m6s\u001b[0m 84ms/step - accuracy: 0.9594 - loss: 0.1545 - val_accuracy: 0.8390 - val_loss: 0.6711\n",
      "Epoch 18/20\n",
      "\u001b[1m70/70\u001b[0m \u001b[32m━━━━━━━━━━━━━━━━━━━━\u001b[0m\u001b[37m\u001b[0m \u001b[1m6s\u001b[0m 84ms/step - accuracy: 0.9662 - loss: 0.1314 - val_accuracy: 0.8444 - val_loss: 0.6829\n",
      "Epoch 19/20\n",
      "\u001b[1m70/70\u001b[0m \u001b[32m━━━━━━━━━━━━━━━━━━━━\u001b[0m\u001b[37m\u001b[0m \u001b[1m6s\u001b[0m 81ms/step - accuracy: 0.9688 - loss: 0.1258 - val_accuracy: 0.8522 - val_loss: 0.6564\n",
      "Epoch 20/20\n",
      "\u001b[1m70/70\u001b[0m \u001b[32m━━━━━━━━━━━━━━━━━━━━\u001b[0m\u001b[37m\u001b[0m \u001b[1m5s\u001b[0m 72ms/step - accuracy: 0.9719 - loss: 0.1137 - val_accuracy: 0.8535 - val_loss: 0.6510\n"
     ]
    }
   ],
   "source": [
    "history = cnn_model.fit(X_train_gray_norm,y_train,batch_size=500,epochs = 20,verbose=1,validation_data=(X_validation_gray_norm,y_validation))"
   ]
  },
  {
   "cell_type": "code",
   "execution_count": 18,
   "id": "3a3ebad9",
   "metadata": {},
   "outputs": [
    {
     "name": "stdout",
     "output_type": "stream",
     "text": [
      "\u001b[1m395/395\u001b[0m \u001b[32m━━━━━━━━━━━━━━━━━━━━\u001b[0m\u001b[37m\u001b[0m \u001b[1m2s\u001b[0m 5ms/step - accuracy: 0.8428 - loss: 0.9556\n",
      "Test Accuracy:0.841251015663147\n"
     ]
    }
   ],
   "source": [
    "score = cnn_model.evaluate(X_test_gray_norm,y_test)\n",
    "print('Test Accuracy:{}'.format(score[1]))"
   ]
  },
  {
   "cell_type": "code",
   "execution_count": 19,
   "id": "427dfd5a",
   "metadata": {},
   "outputs": [],
   "source": [
    "plott = pd.DataFrame(history.history)"
   ]
  },
  {
   "cell_type": "code",
   "execution_count": 20,
   "id": "5ae47d14",
   "metadata": {},
   "outputs": [
    {
     "data": {
      "text/plain": [
       "<Axes: >"
      ]
     },
     "execution_count": 20,
     "metadata": {},
     "output_type": "execute_result"
    },
    {
     "data": {
      "image/png": "[encoded data removed]",
      "text/plain": [
       "<Figure size 640x480 with 1 Axes>"
      ]
     },
     "metadata": {},
     "output_type": "display_data"
    }
   ],
   "source": [
    "plott.plot()"
   ]
  },
  {
   "cell_type": "code",
   "execution_count": 25,
   "id": "c7bd4bb3",
   "metadata": {},
   "outputs": [
    {
     "name": "stdout",
     "output_type": "stream",
     "text": [
      "\u001b[1m395/395\u001b[0m \u001b[32m━━━━━━━━━━━━━━━━━━━━\u001b[0m\u001b[37m\u001b[0m \u001b[1m2s\u001b[0m 4ms/step\n"
     ]
    }
   ],
   "source": [
    "predictions = cnn_model.predict(X_test_gray_norm)\n",
    "\n",
    "# Get the class labels with highest probability for each prediction\n",
    "predicted_classes = predictions.argmax(axis=-1)"
   ]
  },
  {
   "cell_type": "code",
   "execution_count": 29,
   "id": "8bf3926e",
   "metadata": {},
   "outputs": [
    {
     "data": {
      "text/plain": [
       "0.8412509897070467"
      ]
     },
     "execution_count": 29,
     "metadata": {},
     "output_type": "execute_result"
    }
   ],
   "source": [
    "accuracy_score(y_test,predicted_classes)"
   ]
  },
  {
   "cell_type": "code",
   "execution_count": null,
   "id": "8148ec20",
   "metadata": {},
   "outputs": [],
   "source": []
  }
 ],
 "metadata": {
  "kernelspec": {
   "display_name": "Python 3 (ipykernel)",
   "language": "python",
   "name": "python3"
  },
  "language_info": {
   "codemirror_mode": {
    "name": "ipython",
    "version": 3
   },
   "file_extension": ".py",
   "mimetype": "text/x-python",
   "name": "python",
   "nbconvert_exporter": "python",
   "pygments_lexer": "ipython3",
   "version": "3.11.3"
  }
 },
 "nbformat": 4,
 "nbformat_minor": 5
}
